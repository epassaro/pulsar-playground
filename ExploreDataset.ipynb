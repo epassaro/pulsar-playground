{
 "cells": [
  {
   "cell_type": "markdown",
   "metadata": {},
   "source": [
    "# Summary"
   ]
  },
  {
   "cell_type": "code",
   "execution_count": null,
   "metadata": {},
   "outputs": [],
   "source": [
    "from ipywidgets import interact\n",
    "from pulsar_playground.plots import *"
   ]
  },
  {
   "cell_type": "code",
   "execution_count": null,
   "metadata": {},
   "outputs": [],
   "source": [
    "train = pd.read_csv('./pulsar_playground/dataset/train_set.csv')\n",
    "test = pd.read_csv('./pulsar_playground/dataset/test_set.csv')\n",
    "data = pd.concat([test, train])\n",
    "features = data.columns[:-1]"
   ]
  },
  {
   "cell_type": "code",
   "execution_count": null,
   "metadata": {
    "scrolled": false
   },
   "outputs": [],
   "source": [
    "@interact()\n",
    "def summary():\n",
    "        \n",
    "    fig1, ax1 = plt.subplots(figsize=(16,2), nrows=1, ncols=1)\n",
    "    \n",
    "    plot_info(data, ax1)\n",
    "    \n",
    "    fig2, (ax1, ax2) = plt.subplots(figsize=(10, 4.75), nrows=1, ncols=2)\n",
    "    \n",
    "    plot_nulls(data, ax=ax1)\n",
    "    plot_classprop(data, ax=ax2)"
   ]
  },
  {
   "cell_type": "markdown",
   "metadata": {},
   "source": [
    "# Feature analysis"
   ]
  },
  {
   "cell_type": "code",
   "execution_count": null,
   "metadata": {
    "scrolled": false
   },
   "outputs": [],
   "source": [
    "@interact(x_axis=features, y_axis=features, transform_x=tfs.keys(), transform_y=tfs.keys(), bins=(2,20,2))\n",
    "def dashboard(x_axis, y_axis, transform_x, transform_y, bins=10):\n",
    "    \n",
    "    fig1, (ax1, ax2, ax3) = plt.subplots(figsize=(16,4.75), nrows=1, ncols=3)\n",
    "    \n",
    "    plot_fcorr(data, x_axis, y_axis, transform_x, transform_y, ax=ax1)\n",
    "    plot_hist(data, x_axis, ax=ax2, bins=bins)\n",
    "    plot_ecdf(data, x_axis, ax=ax3)"
   ]
  }
 ],
 "metadata": {
  "kernelspec": {
   "display_name": "Python 3",
   "language": "python",
   "name": "python3"
  },
  "language_info": {
   "codemirror_mode": {
    "name": "ipython",
    "version": 3
   },
   "file_extension": ".py",
   "mimetype": "text/x-python",
   "name": "python",
   "nbconvert_exporter": "python",
   "pygments_lexer": "ipython3",
   "version": "3.6.7"
  }
 },
 "nbformat": 4,
 "nbformat_minor": 2
}
