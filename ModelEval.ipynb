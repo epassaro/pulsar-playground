{
 "cells": [
  {
   "cell_type": "markdown",
   "metadata": {},
   "source": [
    "# Model Evaluation"
   ]
  },
  {
   "cell_type": "code",
   "execution_count": null,
   "metadata": {},
   "outputs": [],
   "source": [
    "from glob import glob\n",
    "from sklearn.externals.joblib import load\n",
    "from keras.models import load_model\n",
    "from xgboost import XGBClassifier, plot_importance\n",
    "from ipywidgets import interact, widgets\n",
    "from IPython.display import display\n",
    "from pulsar_playground.plots import *"
   ]
  },
  {
   "cell_type": "code",
   "execution_count": null,
   "metadata": {},
   "outputs": [],
   "source": [
    "models = glob('./saved_models/*.joblib')\n",
    "models.extend(glob('./saved_models/*.h5'))"
   ]
  },
  {
   "cell_type": "code",
   "execution_count": null,
   "metadata": {},
   "outputs": [],
   "source": [
    "test = pd.read_csv('./pulsar_playground/dataset/test_set.csv')\n",
    "X_test = test.iloc[:,:-1]\n",
    "y_test = test.iloc[:, -1]"
   ]
  },
  {
   "cell_type": "code",
   "execution_count": null,
   "metadata": {},
   "outputs": [],
   "source": [
    "@interact(model=models, threshold='0.5', save_candidates=False)\n",
    "def model_eval(model, threshold=0.5, save_candidates=False):\n",
    "        \n",
    "    try:\n",
    "        threshold = float(threshold)\n",
    "        \n",
    "    except ValueError:\n",
    "        threshold = 0.\n",
    "    \n",
    "    \n",
    "    if model[-2:] == 'h5':        \n",
    "        clf = load_model(model)\n",
    "        y_positive_class = clf.predict_proba(X_test)\n",
    "        y_negative_class = 1 - y_positive_class\n",
    "        \n",
    "        # KerasClassifier predict_proba output has only one row.       \n",
    "        y_pred_proba = np.hstack((y_negative_class, y_positive_class))\n",
    "    \n",
    "    else:        \n",
    "        clf = load(model)\n",
    "        y_pred_proba = clf.predict_proba(X_test)\n",
    "    \n",
    "        \n",
    "    fig1, (ax1, ax2, ax3) = plt.subplots(figsize=(15,5), nrows=1, ncols=3)\n",
    "    \n",
    "    plot_prc(y_test, y_pred_proba, threshold, ax=ax1)\n",
    "    plot_cm(y_test, y_pred_proba, threshold, ax=ax2)\n",
    "    \n",
    "    ax3.set_title('Feature importance (XGBoost only)')\n",
    "    ax3.set_xlabel('F-score')\n",
    "    ax3.set_ylabel('Features')\n",
    "    \n",
    "    if isinstance(clf, XGBClassifier):\n",
    "        ax3.yaxis.tick_right()\n",
    "        plot_importance(clf, title='Feature importance (XGBoost only)', ax=ax3)\n",
    "    \n",
    "\n",
    "    if save_candidates:\n",
    "        dump_idx(y_pred_proba, threshold)"
   ]
  }
 ],
 "metadata": {
  "kernelspec": {
   "display_name": "Python 3",
   "language": "python",
   "name": "python3"
  },
  "language_info": {
   "codemirror_mode": {
    "name": "ipython",
    "version": 3
   },
   "file_extension": ".py",
   "mimetype": "text/x-python",
   "name": "python",
   "nbconvert_exporter": "python",
   "pygments_lexer": "ipython3",
   "version": "3.6.8"
  }
 },
 "nbformat": 4,
 "nbformat_minor": 2
}
